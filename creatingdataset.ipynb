{
 "cells": [
  {
   "cell_type": "markdown",
   "id": "08792d13",
   "metadata": {},
   "source": [
    "# Setting up the Environment"
   ]
  },
  {
   "cell_type": "markdown",
   "id": "da72b13b",
   "metadata": {},
   "source": [
    "Use following resources, and install all the required libraries,\n",
    "If you don't have GPU, skip steps for - CUDA, CUDNN.\n",
    "(Try not to work inside a Virtualenv)\n",
    "\n",
    "https://tensorflow-object-detection-api-tutorial.readthedocs.io/en/latest/install.html\n",
    "\n",
    "After setting up move onto creating Dataset for Project.\n",
    "If you face any error creating the Dataset, try to change Drive for Project."
   ]
  },
  {
   "cell_type": "markdown",
   "id": "dd222c6c",
   "metadata": {},
   "source": [
    "# 1. Importing Dependencies"
   ]
  },
  {
   "cell_type": "code",
   "execution_count": 5,
   "id": "5a3aa913",
   "metadata": {
    "scrolled": true
   },
   "outputs": [],
   "source": [
    "import cv2\n",
    "import os\n",
    "import time\n",
    "import uuid"
   ]
  },
  {
   "cell_type": "markdown",
   "id": "b23f22e0",
   "metadata": {},
   "source": [
    "# 2. Creating Dataset"
   ]
  },
  {
   "cell_type": "markdown",
   "id": "2870b5d6",
   "metadata": {},
   "source": [
    "Set Dataset Images path as :"
   ]
  },
  {
   "cell_type": "code",
   "execution_count": 6,
   "id": "d379edfc",
   "metadata": {},
   "outputs": [],
   "source": [
    "IMAGES_PATH = 'E:\\collectedimages'"
   ]
  },
  {
   "cell_type": "markdown",
   "id": "50fbe2b1",
   "metadata": {},
   "source": [
    "Create all the Sign labels as :"
   ]
  },
  {
   "cell_type": "code",
   "execution_count": 7,
   "id": "c64a5910",
   "metadata": {},
   "outputs": [],
   "source": [
    "labels = ['hello', 'thankyou', 'yes', 'no', 'iloveyou']\n",
    "number_imgs = 15"
   ]
  },
  {
   "cell_type": "markdown",
   "id": "79cee8a3",
   "metadata": {},
   "source": [
    "Run following code as it is and start creating dataset."
   ]
  },
  {
   "cell_type": "code",
   "execution_count": 8,
   "id": "386409ed",
   "metadata": {},
   "outputs": [
    {
     "name": "stderr",
     "output_type": "stream",
     "text": [
      "A subdirectory or file E:\\collectedimages\\hello already exists.\n"
     ]
    },
    {
     "name": "stdout",
     "output_type": "stream",
     "text": [
      "Collecting images for hello\n"
     ]
    }
   ],
   "source": [
    "for label in labels:\n",
    "    !mkdir {'E:\\collectedimages\\\\'+label}\n",
    "    cap = cv2.VideoCapture(0)\n",
    "    print('Collecting images for {}'.format(label))\n",
    "    time.sleep(5)\n",
    "    for imgnum in range(number_imgs):\n",
    "        ret, frame = cap.read()\n",
    "        imgname = os.path.join(IMAGES_PATH, label, label+'.'+'{}.jpg'.format(str(uuid.uuid1())))\n",
    "        cv2.imwrite(imgname, frame)\n",
    "        cv2.imshow('frame', frame)\n",
    "        time.sleep(2)\n",
    "        \n",
    "        if cv2.waitKey(1) & 0xFF == ord('q'):\n",
    "            break\n",
    "    cap.release()\n",
    "    cv2.destroyAllWindows()"
   ]
  },
  {
   "cell_type": "markdown",
   "id": "2970184b",
   "metadata": {},
   "source": [
    "After successfully having images stored, move on to main project notebook (i.e. SLR.ipynb)."
   ]
  },
  {
   "cell_type": "code",
   "execution_count": null,
   "id": "19911515",
   "metadata": {},
   "outputs": [],
   "source": []
  }
 ],
 "metadata": {
  "kernelspec": {
   "display_name": "Python 3 (ipykernel)",
   "language": "python",
   "name": "python3"
  },
  "language_info": {
   "codemirror_mode": {
    "name": "ipython",
    "version": 3
   },
   "file_extension": ".py",
   "mimetype": "text/x-python",
   "name": "python",
   "nbconvert_exporter": "python",
   "pygments_lexer": "ipython3",
   "version": "3.9.7"
  }
 },
 "nbformat": 4,
 "nbformat_minor": 5
}
